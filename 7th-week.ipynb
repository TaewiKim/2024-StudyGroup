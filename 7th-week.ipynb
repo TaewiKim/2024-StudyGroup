{
 "cells": [
  {
   "cell_type": "code",
   "execution_count": 5,
   "metadata": {},
   "outputs": [
    {
     "name": "stdout",
     "output_type": "stream",
     "text": [
      "Requirement already satisfied: requests in /home/codespace/.local/lib/python3.10/site-packages (2.31.0)\n",
      "Requirement already satisfied: charset-normalizer<4,>=2 in /home/codespace/.local/lib/python3.10/site-packages (from requests) (3.3.2)\n",
      "Requirement already satisfied: idna<4,>=2.5 in /home/codespace/.local/lib/python3.10/site-packages (from requests) (3.6)\n",
      "Requirement already satisfied: urllib3<3,>=1.21.1 in /usr/local/python/3.10.13/lib/python3.10/site-packages (from requests) (2.0.7)\n",
      "Requirement already satisfied: certifi>=2017.4.17 in /home/codespace/.local/lib/python3.10/site-packages (from requests) (2024.2.2)\n",
      "Note: you may need to restart the kernel to use updated packages.\n"
     ]
    }
   ],
   "source": [
    "pip install requests"
   ]
  },
  {
   "cell_type": "code",
   "execution_count": 29,
   "metadata": {},
   "outputs": [
    {
     "name": "stdout",
     "output_type": "stream",
     "text": [
      "{\"ResponseMetadata\": {\"RequestId\": \"PF4K33QGLJLSR70PH3S27A6AKVVV4KQNSO5AEMVJF66Q9ASUAAJG\", \"HTTPStatusCode\": 200, \"HTTPHeaders\": {\"server\": \"Server\", \"date\": \"Sat, 11 May 2024 15:43:06 GMT\", \"content-type\": \"application/x-amz-json-1.0\", \"content-length\": \"2\", \"connection\": \"keep-alive\", \"x-amzn-requestid\": \"PF4K33QGLJLSR70PH3S27A6AKVVV4KQNSO5AEMVJF66Q9ASUAAJG\", \"x-amz-crc32\": \"2745614147\"}, \"RetryAttempts\": 0}}\n"
     ]
    }
   ],
   "source": [
    "import requests\n",
    "import json\n",
    "from datetime import datetime, timezone\n",
    "\n",
    "# API 엔드포인트 URL\n",
    "url = \"https://kvw58iapmc.execute-api.ap-northeast-2.amazonaws.com/default/Lambda-DynamoDB-Uploader\"\n",
    "\n",
    "# API 키\n",
    "with open(\"aws_apikey.txt\", \"r\") as f:\n",
    "    api_key = f.read().strip()\n",
    "\n",
    "\n",
    "# 현재 UTC 시간을 ISO 8601 포맷으로 가져오기\n",
    "current_time = datetime.now(timezone.utc).astimezone().isoformat()\n",
    "\n",
    "# 업로드할 데이터: DynamoDB 'put_item' 메소드에 필요한 데이터 구조 예시\n",
    "data = {\n",
    "    \"TableName\": \"DynamoDB-Kakao-MiroMentis-userUtterance\",\n",
    "    \"Item\": {\n",
    "        \"UserID\": {\"S\": \"user_1234\"},\n",
    "        \"message\": {\"S\": \"Hello, DynamoDB!\"},\n",
    "        \"Timestamp\": {\"S\": current_time}\n",
    "    }\n",
    "}\n",
    "\n",
    "# 헤더에 API 키 포함\n",
    "headers = {\n",
    "    \"Content-Type\": \"application/json\",\n",
    "    \"x-api-key\": api_key\n",
    "}\n",
    "\n",
    "# POST 요청 보내기\n",
    "response = requests.post(url, json=data, headers=headers)\n",
    "\n",
    "# 응답 출력\n",
    "print(response.text)\n"
   ]
  },
  {
   "cell_type": "code",
   "execution_count": 25,
   "metadata": {},
   "outputs": [
    {
     "name": "stdout",
     "output_type": "stream",
     "text": [
      "{\"Item\": {\"UserID\": {\"S\": \"user_1234\"}, \"Timestamp\": {\"S\": \"2024-05-11T15:00:38.049181+00:00\"}, \"message\": {\"S\": \"Hello, DynamoDB!\"}, \"UserKey\": {\"S\": \"YourUserKeyValue\"}}, \"ResponseMetadata\": {\"RequestId\": \"R0C85E7JS558C0OD2H9C2C3B07VV4KQNSO5AEMVJF66Q9ASUAAJG\", \"HTTPStatusCode\": 200, \"HTTPHeaders\": {\"server\": \"Server\", \"date\": \"Sat, 11 May 2024 15:32:51 GMT\", \"content-type\": \"application/x-amz-json-1.0\", \"content-length\": \"160\", \"connection\": \"keep-alive\", \"x-amzn-requestid\": \"R0C85E7JS558C0OD2H9C2C3B07VV4KQNSO5AEMVJF66Q9ASUAAJG\", \"x-amz-crc32\": \"3053834789\"}, \"RetryAttempts\": 0}}\n"
     ]
    }
   ],
   "source": [
    "# GET 요청에 사용될 쿼리 매개변수\n",
    "params = {\n",
    "    'TableName': \"DynamoDB-Kakao-MiroMentis-userUtterance\",\n",
    "    'Key': json.dumps({\n",
    "        'UserID': {'S': 'user_1234'},\n",
    "        'Timestamp': {'S': current_time}\n",
    "    })\n",
    "}\n",
    "\n",
    "# GET 요청 보내기\n",
    "response = requests.get(url, headers=headers, params=params)\n",
    "\n",
    "# 응답 출력\n",
    "print(response.text)"
   ]
  },
  {
   "cell_type": "code",
   "execution_count": 21,
   "metadata": {},
   "outputs": [
    {
     "name": "stdout",
     "output_type": "stream",
     "text": [
      "{\"Attributes\": {\"UserKey\": {\"S\": \"YourUserKeyValue\"}}, \"ResponseMetadata\": {\"RequestId\": \"JR6ACKQFOFTO5R7D7K2PAVIDMBVV4KQNSO5AEMVJF66Q9ASUAAJG\", \"HTTPStatusCode\": 200, \"HTTPHeaders\": {\"server\": \"Server\", \"date\": \"Sat, 11 May 2024 15:30:03 GMT\", \"content-type\": \"application/x-amz-json-1.0\", \"content-length\": \"51\", \"connection\": \"keep-alive\", \"x-amzn-requestid\": \"JR6ACKQFOFTO5R7D7K2PAVIDMBVV4KQNSO5AEMVJF66Q9ASUAAJG\", \"x-amz-crc32\": \"1301518788\"}, \"RetryAttempts\": 0}}\n"
     ]
    }
   ],
   "source": [
    "# PUT 요청에 사용될 JSON 본문\n",
    "data = {\n",
    "    'TableName': \"DynamoDB-Kakao-MiroMentis-userUtterance\",\n",
    "    'Key': {\n",
    "        'UserID': {'S': 'user_1234'},\n",
    "        'Timestamp': {'S': current_time}  # 'current_time'은 해당 시간으로 설정되어야 함\n",
    "    },\n",
    "    'UpdateExpression': 'SET UserKey = :val',\n",
    "    'ExpressionAttributeValues': {\n",
    "        ':val': {'S': 'YourUserKeyValue'}\n",
    "    },\n",
    "    'ReturnValues': \"UPDATED_NEW\"\n",
    "}\n",
    "\n",
    "# PUT 요청 보내기\n",
    "response = requests.put(url, headers=headers, json=data)\n",
    "\n",
    "# 응답 출력\n",
    "print(response.text)"
   ]
  },
  {
   "cell_type": "code",
   "execution_count": 30,
   "metadata": {},
   "outputs": [
    {
     "name": "stdout",
     "output_type": "stream",
     "text": [
      "{\"ResponseMetadata\": {\"RequestId\": \"LSGV21OUTBV7JLGNPNNB95UJJFVV4KQNSO5AEMVJF66Q9ASUAAJG\", \"HTTPStatusCode\": 200, \"HTTPHeaders\": {\"server\": \"Server\", \"date\": \"Sat, 11 May 2024 15:43:19 GMT\", \"content-type\": \"application/x-amz-json-1.0\", \"content-length\": \"2\", \"connection\": \"keep-alive\", \"x-amzn-requestid\": \"LSGV21OUTBV7JLGNPNNB95UJJFVV4KQNSO5AEMVJF66Q9ASUAAJG\", \"x-amz-crc32\": \"2745614147\"}, \"RetryAttempts\": 0}}\n"
     ]
    }
   ],
   "source": [
    "# DELETE 요청에 사용될 JSON 본문\n",
    "data = {\n",
    "    'TableName': \"DynamoDB-Kakao-MiroMentis-userUtterance\",\n",
    "    'Key': {\n",
    "        'UserID': {'S': 'user_1234'},\n",
    "        'Timestamp': {'S': current_time}  # 'current_time'은 해당 시간으로 설정되어야 함\n",
    "    }\n",
    "}\n",
    "\n",
    "# DELETE 요청 보내기\n",
    "response = requests.delete(url, headers=headers, json=data)\n",
    "\n",
    "# 응답 출력\n",
    "print(response.text)"
   ]
  },
  {
   "cell_type": "code",
   "execution_count": null,
   "metadata": {},
   "outputs": [],
   "source": []
  }
 ],
 "metadata": {
  "kernelspec": {
   "display_name": "Python 3",
   "language": "python",
   "name": "python3"
  },
  "language_info": {
   "codemirror_mode": {
    "name": "ipython",
    "version": 3
   },
   "file_extension": ".py",
   "mimetype": "text/x-python",
   "name": "python",
   "nbconvert_exporter": "python",
   "pygments_lexer": "ipython3",
   "version": "3.10.13"
  }
 },
 "nbformat": 4,
 "nbformat_minor": 2
}
